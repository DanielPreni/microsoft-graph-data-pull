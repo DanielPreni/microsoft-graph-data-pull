{
  "nbformat": 4,
  "nbformat_minor": 0,
  "metadata": {
    "colab": {
      "provenance": [],
      "toc_visible": true,
      "authorship_tag": "ABX9TyMQOuOagwqRkE/B1UZb2Fnl",
      "include_colab_link": true
    },
    "kernelspec": {
      "name": "python3",
      "display_name": "Python 3"
    },
    "language_info": {
      "name": "python"
    }
  },
  "cells": [
    {
      "cell_type": "markdown",
      "metadata": {
        "id": "view-in-github",
        "colab_type": "text"
      },
      "source": [
        "<a href=\"https://colab.research.google.com/github/DanielPreni/microsoft-graph-data-pull/blob/main/project.ipynb\" target=\"_parent\"><img src=\"https://colab.research.google.com/assets/colab-badge.svg\" alt=\"Open In Colab\"/></a>"
      ]
    },
    {
      "cell_type": "code",
      "execution_count": 3,
      "metadata": {
        "colab": {
          "base_uri": "https://localhost:8080/"
        },
        "id": "vQvKpzf7KU_D",
        "outputId": "b62d9acd-c7bd-4ce6-ff81-851f4478657f"
      },
      "outputs": [
        {
          "output_type": "stream",
          "name": "stdout",
          "text": [
            "Access token: eyJ0eXAiOiJKV1QiLCJub25jZSI6InUtOTJXM0FqeHJmbGdTRDBJYnN4SmJOZ1RzZGlwbjE3MXlfWFFCQ29UU1EiLCJhbGciOiJSUzI1NiIsIng1dCI6Ik1jN2wzSXo5M2c3dXdnTmVFbW13X1dZR1BrbyIsImtpZCI6Ik1jN2wzSXo5M2c3dXdnTmVFbW13X1dZR1BrbyJ9.eyJhdWQiOiJodHRwczovL2dyYXBoLm1pY3Jvc29mdC5jb20iLCJpc3MiOiJodHRwczovL3N0cy53aW5kb3dzLm5ldC82ODIxZGQ1Zi0xZmMwLTRhYmEtYWYzOC0xY2VmMTg3MzA5NzkvIiwiaWF0IjoxNzI4MjU3MjU1LCJuYmYiOjE3MjgyNTcyNTUsImV4cCI6MTcyODI2MTE1NSwiYWlvIjoiazJCZ1lFaEpVdHBaMFZPeHQvQkYyTE10bXQ1eUFBPT0iLCJhcHBfZGlzcGxheW5hbWUiOiJPZmZpY2UgMzY1IGRhdGEgcHVsbCIsImFwcGlkIjoiNzUzN2U5N2MtY2Q4MS00OTA1LTk4MWYtMzY3OWFiZmE3M2FmIiwiYXBwaWRhY3IiOiIxIiwiaWRwIjoiaHR0cHM6Ly9zdHMud2luZG93cy5uZXQvNjgyMWRkNWYtMWZjMC00YWJhLWFmMzgtMWNlZjE4NzMwOTc5LyIsImlkdHlwIjoiYXBwIiwib2lkIjoiNmMyZjI3YTYtZTliYi00Y2M2LTg0MDQtYjUwYmExYjU2MmQ5IiwicmgiOiIwLkFSTUJYOTBoYU1BZnVrcXZPQnp2R0hNSmVRTUFBQUFBQUFBQXdBQUFBQUFBQUFBVEFRQS4iLCJyb2xlcyI6WyJEaXJlY3RvcnkuUmVhZC5BbGwiXSwic3ViIjoiNmMyZjI3YTYtZTliYi00Y2M2LTg0MDQtYjUwYmExYjU2MmQ5IiwidGVuYW50X3JlZ2lvbl9zY29wZSI6IkVVIiwidGlkIjoiNjgyMWRkNWYtMWZjMC00YWJhLWFmMzgtMWNlZjE4NzMwOTc5IiwidXRpIjoiR1kzNEtEN3dBVS1rQmZFQVBJbUxBQSIsInZlciI6IjEuMCIsIndpZHMiOlsiMDk5N2ExZDAtMGQxZC00YWNiLWI0MDgtZDVjYTczMTIxZTkwIl0sInhtc19pZHJlbCI6IjcgMjQiLCJ4bXNfdGNkdCI6MTcyNDEwNDUxM30.0Oq55Og2hhHTqaMg64ug0pxJJkaTa_RLqVkk0821vNCDgY--JmgPfH3bI8DV65MZHE87eCTlV0UMocEmGpGupOZ9XXdgOzsN-HD7n3Q4yJkdxebuvYYxD818kjk27f6zJPoJmynVI-HuTXbWsxV-FoCFp-KKnnv3on5o3awf1m5D1BDIAxSaN8Hz2qTSxXlJOwcow_gXSsKqFLB_ESvJPSI3qTVsO-n83vaHOR2VC4lyI2sVs2afq1FHWdtrgZcEHVMo_HocxqgHoi0XQqbd5t4ekpqCc-ULnChNYWZpbTpFlHkAqKFkr91N3lzbrumRRT8wPsXdLKqYpWNH9fYIzA\n"
          ]
        }
      ],
      "source": [
        "import msal\n",
        "\n",
        "# Azure AD app details\n",
        "CLIENT_ID =         # Replace with your app's Client ID\n",
        "CLIENT_SECRET = ' # Replace with your Client Secret\n",
        "TENANT_ID = ''        # Replace with your Tenant ID\n",
        "AUTHORITY = f\"https://login.microsoftonline.com/{TENANT_ID}\"\n",
        "SCOPE = [\"https://graph.microsoft.com/.default\"]\n",
        "\n",
        "# Function to get an access token\n",
        "def get_access_token():\n",
        "    app = msal.ConfidentialClientApplication(\n",
        "        CLIENT_ID, authority=AUTHORITY, client_credential=CLIENT_SECRET\n",
        "    )\n",
        "    result = app.acquire_token_for_client(scopes=SCOPE)\n",
        "    if \"access_token\" in result:\n",
        "        return result[\"access_token\"]\n",
        "    else:\n",
        "        print(\"Error obtaining token:\", result.get(\"error_description\"))\n",
        "        return None\n",
        "\n",
        "# Test the function\n",
        "token = get_access_token()\n",
        "if token:\n",
        "    print(f\"Access token: {token}\")\n"
      ]
    },
    {
      "cell_type": "code",
      "source": [
        "!pip install requests openpyxl\n"
      ],
      "metadata": {
        "colab": {
          "base_uri": "https://localhost:8080/"
        },
        "id": "eHdtDIymLtnV",
        "outputId": "4458cfaf-8800-46f8-eb04-9c7718081a6d"
      },
      "execution_count": 4,
      "outputs": [
        {
          "output_type": "stream",
          "name": "stdout",
          "text": [
            "Requirement already satisfied: requests in /usr/local/lib/python3.10/dist-packages (2.32.3)\n",
            "Requirement already satisfied: openpyxl in /usr/local/lib/python3.10/dist-packages (3.1.5)\n",
            "Requirement already satisfied: charset-normalizer<4,>=2 in /usr/local/lib/python3.10/dist-packages (from requests) (3.3.2)\n",
            "Requirement already satisfied: idna<4,>=2.5 in /usr/local/lib/python3.10/dist-packages (from requests) (3.10)\n",
            "Requirement already satisfied: urllib3<3,>=1.21.1 in /usr/local/lib/python3.10/dist-packages (from requests) (2.2.3)\n",
            "Requirement already satisfied: certifi>=2017.4.17 in /usr/local/lib/python3.10/dist-packages (from requests) (2024.8.30)\n",
            "Requirement already satisfied: et-xmlfile in /usr/local/lib/python3.10/dist-packages (from openpyxl) (1.1.0)\n"
          ]
        }
      ]
    },
    {
      "cell_type": "code",
      "source": [
        "import requests\n",
        "import openpyxl\n",
        "from datetime import datetime\n",
        "\n",
        "# API Endpoint\n",
        "GRAPH_API_ENDPOINT = \"https://graph.microsoft.com/v1.0\"\n",
        "\n",
        "# Headers for the request with the access token\n",
        "def get_headers(token):\n",
        "    return {\n",
        "        'Authorization': f'Bearer {token}',\n",
        "        'Content-Type': 'application/json'\n",
        "    }\n",
        "\n",
        "# Function to get users data from Microsoft Graph\n",
        "def get_users_data(token):\n",
        "    headers = get_headers(token)\n",
        "    users_data = []\n",
        "\n",
        "    # Make the API call to get user data\n",
        "    response = requests.get(f'{GRAPH_API_ENDPOINT}/users', headers=headers)\n",
        "\n",
        "    if response.status_code == 200:\n",
        "        users = response.json().get('value', [])\n",
        "\n",
        "        # Debug: Print raw user data to inspect what's being returned\n",
        "        for user in users:\n",
        "            print(f\"Raw User Data for {user.get('userPrincipalName')}:\\n{user}\\n\")\n",
        "\n",
        "            # Extract licenses (skuId or display name)\n",
        "            licenses = [license.get('skuId') for license in (user.get('assignedLicenses') or [])]\n",
        "            print(f\"Licenses for {user.get('userPrincipalName')}: {licenses}\\n\")  # Debugging licenses\n",
        "\n",
        "            # Ensure we're capturing all fields\n",
        "            user_info = {\n",
        "                'email': user.get('mail'),\n",
        "                'username': user.get('userPrincipalName'),\n",
        "                'licenses': licenses if licenses else ['No Licenses'],\n",
        "                'date_created': user.get('createdDateTime', 'Not Available'),\n",
        "                'last_login': get_last_login(token, user.get('id'))\n",
        "            }\n",
        "            users_data.append(user_info)\n",
        "    else:\n",
        "        print(f\"Error fetching users data: {response.json()}\")\n",
        "\n",
        "    return users_data\n",
        "\n",
        "# Function to get last login details (if available)\n",
        "def get_last_login(token, user_id):\n",
        "    headers = get_headers(token)\n",
        "    response = requests.get(f\"{GRAPH_API_ENDPOINT}/auditLogs/signIns?$filter=userId eq '{user_id}'\", headers=headers)\n",
        "\n",
        "    if response.status_code == 200:\n",
        "        logins = response.json().get('value', [])\n",
        "\n",
        "        # Debug: Print raw login data to inspect what's being returned\n",
        "        print(f\"Login Data for User {user_id}:\\n{response.json()}\\n\")\n",
        "\n",
        "        if logins:\n",
        "            return logins[0].get('createdDateTime')  # Last login datetime\n",
        "    return 'No Login Data'\n",
        "\n",
        "# Function to write data to an Excel file\n",
        "def write_to_excel(users_data):\n",
        "    workbook = openpyxl.Workbook()\n",
        "    sheet = workbook.active\n",
        "\n",
        "    # Add header row\n",
        "    sheet.append(['Email Address', 'Username', 'Licenses Assigned', 'Date Created', 'Last Successful Login'])\n",
        "\n",
        "    # Populate data\n",
        "    for user in users_data:\n",
        "        sheet.append([\n",
        "            user['email'],\n",
        "            user['username'],\n",
        "            ', '.join(user['licenses']),\n",
        "            user['date_created'],\n",
        "            user['last_login']\n",
        "        ])\n",
        "\n",
        "    # Save the Excel file\n",
        "    filename = f\"Office365_Users_{datetime.now().strftime('%Y%m%d')}.xlsx\"\n",
        "    workbook.save(filename)\n",
        "    print(f\"Data has been written to {filename}\")\n",
        "\n",
        "# Main Execution: Fetch user data and write to Excel\n",
        "if __name__ == '__main__':\n",
        "    token = get_access_token()  # Assuming `get_access_token` is defined in your environment\n",
        "\n",
        "    if token:\n",
        "        users_data = get_users_data(token)\n",
        "        if users_data:\n",
        "            write_to_excel(users_data)\n"
      ],
      "metadata": {
        "id": "NpF2i41CL1B8"
      },
      "execution_count": null,
      "outputs": []
    }
  ]
}